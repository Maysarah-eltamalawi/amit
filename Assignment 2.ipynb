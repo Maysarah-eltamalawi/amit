{
 "cells": [
  {
   "cell_type": "markdown",
   "metadata": {
    "collapsed": true
   },
   "source": [
    "# Assignment 2\n",
    "Let's test your knowledge!"
   ]
  },
  {
   "cell_type": "markdown",
   "metadata": {},
   "source": [
    "_____\n",
    "**Use <code>for</code>, .split(), and <code>if</code> to create a Statement that will print out words that start with 's':**"
   ]
  },
  {
   "cell_type": "code",
   "execution_count": 2,
   "metadata": {},
   "outputs": [],
   "source": [
    "st = 'Print only the words that start with s in this sentence'"
   ]
  },
  {
   "cell_type": "code",
   "execution_count": 9,
   "metadata": {},
   "outputs": [
    {
     "name": "stdout",
     "output_type": "stream",
     "text": [
      "s\n",
      "s\n",
      "s\n",
      "['Print', 'only', 'the', 'words', 'that', 'start', 'with', 's', 'in', 'this', 'sentence']\n"
     ]
    }
   ],
   "source": [
    "#Code here\n",
    "list_=st.split()\n",
    "for i in range(len(list_)):\n",
    "    if list_[i][0]==\"s\":\n",
    "      print(list_[i][0])\n",
    "#print(list_)"
   ]
  },
  {
   "cell_type": "markdown",
   "metadata": {},
   "source": [
    "______\n",
    "**Use range() to print all the even numbers from 0 to 10.**"
   ]
  },
  {
   "cell_type": "code",
   "execution_count": 12,
   "metadata": {},
   "outputs": [
    {
     "name": "stdout",
     "output_type": "stream",
     "text": [
      "2\n",
      "4\n",
      "6\n",
      "8\n",
      "10\n"
     ]
    }
   ],
   "source": [
    "for x in range(2,11,2):\n",
    "    print(x)"
   ]
  },
  {
   "cell_type": "markdown",
   "metadata": {},
   "source": [
    "___\n",
    "**Use a List Comprehension to create a list of all numbers between 1 and 50 that are divisible by 3.**"
   ]
  },
  {
   "cell_type": "code",
   "execution_count": 21,
   "metadata": {},
   "outputs": [
    {
     "name": "stdout",
     "output_type": "stream",
     "text": [
      "[3, 6, 9, 12, 15, 18, 21, 24, 27, 30, 33, 36, 39, 42, 45, 48]\n"
     ]
    }
   ],
   "source": [
    "#Code Here\n",
    "list_3=[]\n",
    "for x in range(3,50,3):\n",
    "    list_3.append(x)\n",
    "print(list_3)    "
   ]
  },
  {
   "cell_type": "markdown",
   "metadata": {},
   "source": [
    "_____\n",
    "**Go through the string below and if the length of a word is even print \"even!\"**"
   ]
  },
  {
   "cell_type": "code",
   "execution_count": 36,
   "metadata": {},
   "outputs": [],
   "source": [
    "st = 'Print every word in this sentence that has an even number of letters'"
   ]
  },
  {
   "cell_type": "code",
   "execution_count": 39,
   "metadata": {},
   "outputs": [
    {
     "name": "stdout",
     "output_type": "stream",
     "text": [
      "['Print', 'every', 'word', 'in', 'this', 'sentence', 'that', 'has', 'an', 'even', 'number', 'of', 'letters']\n",
      "word : has even number of letters!\n",
      "in : has even number of letters!\n",
      "this : has even number of letters!\n",
      "sentence : has even number of letters!\n",
      "that : has even number of letters!\n",
      "an : has even number of letters!\n",
      "even : has even number of letters!\n",
      "number : has even number of letters!\n",
      "of : has even number of letters!\n"
     ]
    }
   ],
   "source": [
    "#Code in this cell\n",
    "list_new=st.split()\n",
    "print(list_new)\n",
    "for i in range(len(list_new)):\n",
    "    if len(list_new[i])%2==0:\n",
    "        print(list_new[i],\": has even number of letters!\")"
   ]
  },
  {
   "cell_type": "markdown",
   "metadata": {},
   "source": [
    "____\n",
    "**Write a program that prints the integers from 1 to 100. But for multiples of three print \"Fizz\" instead of the number, and for the multiples of five print \"Buzz\". For numbers which are multiples of both three and five print \"FizzBuzz\".**"
   ]
  },
  {
   "cell_type": "code",
   "execution_count": 55,
   "metadata": {},
   "outputs": [
    {
     "name": "stdout",
     "output_type": "stream",
     "text": [
      "1\n",
      "2\n",
      " fizz\n",
      "4\n",
      " buzz\n",
      " fizz\n",
      "7\n",
      "8\n",
      " fizz\n",
      " buzz\n",
      "11\n",
      " fizz\n",
      "13\n",
      "14\n",
      " fizzbuzz\n",
      "16\n",
      "17\n",
      " fizz\n",
      "19\n",
      " buzz\n",
      " fizz\n",
      "22\n",
      "23\n",
      " fizz\n",
      " buzz\n",
      "26\n",
      " fizz\n",
      "28\n",
      "29\n",
      " fizzbuzz\n",
      "31\n",
      "32\n",
      " fizz\n",
      "34\n",
      " buzz\n",
      " fizz\n",
      "37\n",
      "38\n",
      " fizz\n",
      " buzz\n",
      "41\n",
      " fizz\n",
      "43\n",
      "44\n",
      " fizzbuzz\n",
      "46\n",
      "47\n",
      " fizz\n",
      "49\n",
      " buzz\n",
      " fizz\n",
      "52\n",
      "53\n",
      " fizz\n",
      " buzz\n",
      "56\n",
      " fizz\n",
      "58\n",
      "59\n",
      " fizzbuzz\n",
      "61\n",
      "62\n",
      " fizz\n",
      "64\n",
      " buzz\n",
      " fizz\n",
      "67\n",
      "68\n",
      " fizz\n",
      " buzz\n",
      "71\n",
      " fizz\n",
      "73\n",
      "74\n",
      " fizzbuzz\n",
      "76\n",
      "77\n",
      " fizz\n",
      "79\n",
      " buzz\n",
      " fizz\n",
      "82\n",
      "83\n",
      " fizz\n",
      " buzz\n",
      "86\n",
      " fizz\n",
      "88\n",
      "89\n",
      " fizzbuzz\n",
      "91\n",
      "92\n",
      " fizz\n",
      "94\n",
      " buzz\n",
      " fizz\n",
      "97\n",
      "98\n",
      " fizz\n"
     ]
    }
   ],
   "source": [
    "#Code in this cell\n",
    "for x in range(1,100):\n",
    "     if x%3==0 and x%5==0:\n",
    "        print(\" fizzbuzz\")\n",
    "        continue\n",
    "     else:\n",
    "      if x%3==0:\n",
    "       print(\" fizz\")\n",
    "       continue\n",
    "      if x%5==0:\n",
    "       print(\" buzz\")\n",
    "       continue\n",
    "     print(x)\n",
    "    \n",
    "        "
   ]
  },
  {
   "cell_type": "markdown",
   "metadata": {},
   "source": [
    "____\n",
    "**Use List Comprehension to create a list of the first letters of every word in the string below:**"
   ]
  },
  {
   "cell_type": "code",
   "execution_count": 56,
   "metadata": {},
   "outputs": [],
   "source": [
    "st = 'Create a list of the first letters of every word in this string'"
   ]
  },
  {
   "cell_type": "code",
   "execution_count": 59,
   "metadata": {},
   "outputs": [
    {
     "name": "stdout",
     "output_type": "stream",
     "text": [
      "['Create', 'a', 'list', 'of', 'the', 'first', 'letters', 'of', 'every', 'word', 'in', 'this', 'string']\n",
      "['C', 'a', 'l', 'o', 't', 'f', 'l', 'o', 'e', 'w', 'i', 't', 's']\n"
     ]
    }
   ],
   "source": [
    "#Code in this cell\n",
    "list_word=st.split()\n",
    "print(list_word)\n",
    "list_letters=[]\n",
    "for i in range(len(list_word)):\n",
    "    list_letters.append(list_word[i][0])\n",
    "print(list_letters)    "
   ]
  },
  {
   "cell_type": "markdown",
   "metadata": {},
   "source": [
    "### Great Job!"
   ]
  }
 ],
 "metadata": {
  "kernelspec": {
   "display_name": "Python 3",
   "language": "python",
   "name": "python3"
  },
  "language_info": {
   "codemirror_mode": {
    "name": "ipython",
    "version": 3
   },
   "file_extension": ".py",
   "mimetype": "text/x-python",
   "name": "python",
   "nbconvert_exporter": "python",
   "pygments_lexer": "ipython3",
   "version": "3.8.3"
  }
 },
 "nbformat": 4,
 "nbformat_minor": 1
}
